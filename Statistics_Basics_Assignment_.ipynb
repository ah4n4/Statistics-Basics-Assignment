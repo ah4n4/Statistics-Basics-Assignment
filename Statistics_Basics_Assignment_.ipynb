{
  "nbformat": 4,
  "nbformat_minor": 0,
  "metadata": {
    "colab": {
      "provenance": []
    },
    "kernelspec": {
      "name": "python3",
      "display_name": "Python 3"
    },
    "language_info": {
      "name": "python"
    }
  },
  "cells": [
    {
      "cell_type": "markdown",
      "source": [
        "# **Statistics** **Basics** **Assignment**"
      ],
      "metadata": {
        "id": "UHMtqPQIHgYE"
      }
    },
    {
      "cell_type": "markdown",
      "source": [
        "# **Theory**"
      ],
      "metadata": {
        "id": "4x1H36b9HrkP"
      }
    },
    {
      "cell_type": "markdown",
      "source": [
        "# 1.What is statistics, and why is it important?\n",
        "  - **Statistics** is the branch of mathematics that deals with the **collection, analysis, interpretation, presentation, and organization of data**. It helps in understanding and describing data using numbers and graphical methods, and in drawing conclusions or making decisions based on data.\n",
        "\n",
        "### Why is Statistics Important?\n",
        "\n",
        "1. **Informed Decision-Making**: Helps governments, businesses, and individuals make data-driven choices.\n",
        "2. **Understanding Trends**: Identifies patterns or trends in areas like economics, health, education, and sports.\n",
        "3. **Research and Science**: Essential for designing experiments, analyzing results, and validating hypotheses.\n",
        "4. **Quality Control**: Used in industries to monitor and improve product quality.\n",
        "5. **Forecasting**: Predicts future events like weather conditions, market trends, or election outcomes.\n",
        "\n",
        "In short, statistics turns raw data into meaningful insights.\n",
        "\n",
        "\n"
      ],
      "metadata": {
        "id": "W8Dv1kndHwbr"
      }
    },
    {
      "cell_type": "markdown",
      "source": [
        "# 2.What are the two main types of statistics?\n",
        "  - The two main types of statistics are:\n",
        "\n",
        "### 1. **Descriptive Statistics**\n",
        "\n",
        "This type **summarizes and describes** the main features of a dataset. It uses:\n",
        "\n",
        "* **Measures of central tendency** (mean, median, mode)\n",
        "* **Measures of dispersion** (range, variance, standard deviation)\n",
        "* **Graphs and charts** (histograms, pie charts)\n",
        "\n",
        "🔹 *Example:* Reporting the average marks of a class.\n",
        "\n",
        "---\n",
        "\n",
        "### 2. **Inferential Statistics**\n",
        "\n",
        "This type **makes predictions or inferences** about a population based on a sample of data. It uses:\n",
        "\n",
        "* **Hypothesis testing**\n",
        "* **Confidence intervals**\n",
        "* **Regression analysis**\n",
        "\n",
        "🔹 *Example:* Estimating the average height of all college students based on a sample.\n",
        "\n",
        "\n"
      ],
      "metadata": {
        "id": "0M4SFFg1IG06"
      }
    },
    {
      "cell_type": "markdown",
      "source": [
        "# 3.What are descriptive statistics?\n",
        "  - **Descriptive statistics** are methods used to **summarize, organize, and present data** in a meaningful way. They help you understand the basic features of a dataset without drawing conclusions beyond the data itself.\n",
        "\n",
        "### Key Components of Descriptive Statistics:\n",
        "\n",
        "1. **Measures of Central Tendency** – Tell us the “average” or typical value:\n",
        "\n",
        "   * **Mean**: The arithmetic average\n",
        "   * **Median**: The middle value\n",
        "   * **Mode**: The most frequent value\n",
        "\n",
        "2. **Measures of Dispersion (Spread)** – Show how much the data varies:\n",
        "\n",
        "   * **Range**: Difference between highest and lowest values\n",
        "   * **Variance**: How data points differ from the mean\n",
        "   * **Standard Deviation**: Average distance from the mean\n",
        "\n",
        "3. **Data Presentation**:\n",
        "\n",
        "   * **Tables**\n",
        "   * **Graphs** (like bar charts, histograms, pie charts)\n",
        "\n",
        "---\n",
        "\n",
        "🔹 *Example:*\n",
        "In a class of 10 students, if the test scores are summarized by the average score (mean = 75), highest score (98), and lowest score (50), you are using descriptive statistics.\n",
        "\n"
      ],
      "metadata": {
        "id": "K8SxcSShISVx"
      }
    },
    {
      "cell_type": "markdown",
      "source": [
        "# 4.What is inferential statistics?\n",
        "  - **Inferential statistics** is the branch of statistics that allows us to **make conclusions or predictions about a population** based on data collected from a **sample** of that population.\n",
        "\n",
        "It uses probability theory to estimate and test hypotheses, helping answer questions like: *\"What can we infer about the whole group from this small part?\"*\n",
        "\n",
        "---\n",
        "\n",
        "### Key Features of Inferential Statistics:\n",
        "\n",
        "1. **Estimation** – Predicting population parameters:\n",
        "\n",
        "   * Example: Estimating the average height of all college students based on a sample.\n",
        "\n",
        "2. **Hypothesis Testing** – Checking assumptions:\n",
        "\n",
        "   * Example: Testing if a new drug is more effective than the existing one.\n",
        "\n",
        "3. **Confidence Intervals** – Providing a range of likely values:\n",
        "\n",
        "   * Example: Saying there's a 95% chance the true average salary falls within a certain range.\n",
        "\n",
        "4. **Regression & Correlation** – Exploring relationships between variables:\n",
        "\n",
        "   * Example: Analyzing how study time affects exam scores.\n",
        "\n",
        "---\n",
        "\n",
        "🔹 *Real-life Example:*\n",
        "A poll surveys 1,000 voters to predict the outcome of a national election. Even though it doesn’t survey every voter, inferential statistics is used to make reliable predictions.\n",
        "\n"
      ],
      "metadata": {
        "id": "w-h4WeuQIfgy"
      }
    },
    {
      "cell_type": "markdown",
      "source": [
        "# 5.What is sampling in statistics?\n",
        "  - **Sampling** in statistics is the process of **selecting a subset (sample) from a larger group (population)** to analyze and make conclusions about the whole group without having to study every individual.\n",
        "\n",
        "---\n",
        "\n",
        "### Why Sampling Is Important:\n",
        "\n",
        "* **Saves time and cost**: Studying an entire population is often impractical.\n",
        "* **Enables faster decision-making**: Results from samples are quicker to obtain.\n",
        "* **Can be accurate**: If done properly, samples can represent the population well.\n",
        "\n",
        "---\n",
        "\n",
        "### Types of Sampling Methods:\n",
        "\n",
        "1. **Random Sampling** – Every individual has an equal chance of being selected.\n",
        "2. **Systematic Sampling** – Select every *k*th member from a list.\n",
        "3. **Stratified Sampling** – Divide population into subgroups and sample from each.\n",
        "4. **Cluster Sampling** – Divide into clusters, then randomly select whole clusters.\n",
        "5. **Convenience Sampling** – Sample those easiest to reach (less reliable).\n",
        "\n",
        "---\n",
        "\n",
        "🔹 *Example:*\n",
        "To estimate the average income of people in a city, a researcher surveys 500 randomly chosen residents instead of the entire population.\n",
        "\n",
        "\n"
      ],
      "metadata": {
        "id": "BKcSU3uWIreY"
      }
    },
    {
      "cell_type": "markdown",
      "source": [
        "# 6.What are the different types of sampling methods?\n",
        "  - There are several **types of sampling methods** used in statistics, divided into two main categories: **probability sampling** and **non-probability sampling**.\n",
        "\n",
        "---\n",
        "\n",
        "### 🔹 **A. Probability Sampling**\n",
        "\n",
        "Each member of the population has a known, non-zero chance of being selected.\n",
        "\n",
        "1. **Simple Random Sampling**\n",
        "\n",
        "   * Every individual has an equal chance of being chosen.\n",
        "   * *Example:* Drawing names from a hat.\n",
        "\n",
        "2. **Systematic Sampling**\n",
        "\n",
        "   * Select every *k*th item from a list after a random starting point.\n",
        "   * *Example:* Every 10th person in a queue.\n",
        "\n",
        "3. **Stratified Sampling**\n",
        "\n",
        "   * Divide the population into groups (strata) based on characteristics, then randomly sample from each.\n",
        "   * *Example:* Splitting by gender and sampling equally from both.\n",
        "\n",
        "4. **Cluster Sampling**\n",
        "\n",
        "   * Divide population into clusters (often geographically), then randomly select entire clusters.\n",
        "   * *Example:* Randomly choosing 3 cities and surveying all residents in them.\n",
        "\n",
        "---\n",
        "\n",
        "### 🔹 **B. Non-Probability Sampling**\n",
        "\n",
        "Not every member has a known or equal chance of being selected.\n",
        "\n",
        "1. **Convenience Sampling**\n",
        "\n",
        "   * Use whoever is easiest to access.\n",
        "   * *Example:* Surveying students in your class.\n",
        "\n",
        "2. **Judgmental or Purposive Sampling**\n",
        "\n",
        "   * Select based on expert judgment or purpose.\n",
        "   * *Example:* Choosing only experienced doctors for a medical study.\n",
        "\n",
        "3. **Snowball Sampling**\n",
        "\n",
        "   * Existing participants recruit others.\n",
        "   * *Example:* Used for studying hidden populations like drug users.\n",
        "\n",
        "4. **Quota Sampling**\n",
        "\n",
        "   * Ensure certain groups are represented in a set proportion, but sample selection isn’t random.\n",
        "   * *Example:* Interviewing 50 men and 50 women, selected non-randomly.\n",
        "\n",
        "---\n",
        "\n"
      ],
      "metadata": {
        "id": "pCxFU_jeI7Mk"
      }
    },
    {
      "cell_type": "markdown",
      "source": [
        "# 7.What is the difference between random and non-random sampling?\n",
        "  - The **difference between random and non-random sampling** lies in **how the sample is selected** and whether **every individual has a known and equal chance** of being included.\n",
        "\n",
        "---\n",
        "\n",
        "### 🔹 **Random Sampling** (Probability Sampling)\n",
        "\n",
        "* **Definition**: Every member of the population has a known, equal chance of being selected.\n",
        "* **Method**: Uses chance methods (like random number generators).\n",
        "* **Bias Risk**: Low (if done correctly).\n",
        "* **Representativeness**: High – more likely to reflect the entire population.\n",
        "\n",
        "✅ *Example*: Picking 100 students from a university using a random number generator.\n",
        "\n",
        "---\n",
        "\n",
        "### 🔹 **Non-Random Sampling** (Non-Probability Sampling)\n",
        "\n",
        "* **Definition**: Not all members have a known or equal chance of being chosen.\n",
        "* **Method**: Based on convenience, judgment, or other non-random criteria.\n",
        "* **Bias Risk**: Higher.\n",
        "* **Representativeness**: Lower – may not generalize well to the population.\n",
        "\n",
        "❌ *Example*: Surveying only your friends about their eating habits.\n",
        "\n",
        "---\n",
        "\n",
        "### ✅ Key Differences at a Glance:\n",
        "\n",
        "| Feature           | Random Sampling           | Non-Random Sampling   |\n",
        "| ----------------- | ------------------------- | --------------------- |\n",
        "| Selection basis   | Chance (random)           | Choice/convenience    |\n",
        "| Equal opportunity | Yes                       | No                    |\n",
        "| Bias risk         | Low                       | High                  |\n",
        "| Generalizability  | High                      | Limited               |\n",
        "| Common methods    | Simple random, stratified | Convenience, snowball |\n",
        "\n"
      ],
      "metadata": {
        "id": "QKy5T65iJKKi"
      }
    },
    {
      "cell_type": "markdown",
      "source": [
        "# 8.Define and give examples of qualitative and quantitative data.\n",
        "  - ### **Qualitative and Quantitative Data**\n",
        "\n",
        "---\n",
        "\n",
        "### 🔹 **Qualitative Data** (Categorical Data)\n",
        "\n",
        "* **Definition**: Describes **qualities or characteristics**; cannot be measured numerically.\n",
        "* **Nature**: Non-numeric, descriptive, often grouped into categories.\n",
        "\n",
        "**Examples:**\n",
        "\n",
        "* Eye color: *blue, brown, green*\n",
        "* Marital status: *single, married, divorced*\n",
        "* Types of cuisine: *Italian, Chinese, Indian*\n",
        "* Customer feedback: *“Excellent”, “Poor”, “Okay”*\n",
        "\n",
        "---\n",
        "\n",
        "### 🔹 **Quantitative Data** (Numerical Data)\n",
        "\n",
        "* **Definition**: Refers to **numerical values** that can be measured or counted.\n",
        "* **Nature**: Numeric, used for calculations, and often expressed in units.\n",
        "\n",
        "**Examples:**\n",
        "\n",
        "* Age: *25 years*\n",
        "* Height: *170 cm*\n",
        "* Income: *₹50,000 per month*\n",
        "* Number of books: *12*\n",
        "\n",
        "---\n",
        "\n",
        "### 🔸 Summary Table:\n",
        "\n",
        "| Feature          | Qualitative Data     | Quantitative Data    |\n",
        "| ---------------- | -------------------- | -------------------- |\n",
        "| Type             | Descriptive          | Numerical            |\n",
        "| Can be measured? | No                   | Yes                  |\n",
        "| Examples         | Hair color, language | Weight, temperature  |\n",
        "| Subtypes         | Nominal, Ordinal     | Discrete, Continuous |\n",
        "\n",
        "\n"
      ],
      "metadata": {
        "id": "XV_wZqMhJenX"
      }
    },
    {
      "cell_type": "markdown",
      "source": [
        "# 9.What are the different types of data in statistics?\n",
        "  - In statistics, data is broadly classified based on **nature and measurement level**. There are two main types of data: **Qualitative** and **Quantitative**, which are further divided into subtypes.\n",
        "\n",
        "---\n",
        "\n",
        "### 🔹 **1. Qualitative Data** (Categorical Data)\n",
        "\n",
        "Describes **qualities or categories**; non-numeric.\n",
        "\n",
        "#### a. **Nominal Data**\n",
        "\n",
        "* Labels or names with **no natural order**.\n",
        "* *Examples:* Gender (Male, Female), Colors (Red, Blue)\n",
        "\n",
        "#### b. **Ordinal Data**\n",
        "\n",
        "* Categories with a **meaningful order**, but differences between them aren't measurable.\n",
        "* *Examples:* Ranks (1st, 2nd), Satisfaction level (High, Medium, Low)\n",
        "\n",
        "---\n",
        "\n",
        "### 🔹 **2. Quantitative Data** (Numerical Data)\n",
        "\n",
        "Describes **numerical values**; can be measured or counted.\n",
        "\n",
        "#### a. **Discrete Data**\n",
        "\n",
        "* Countable, whole numbers.\n",
        "* *Examples:* Number of children, number of cars\n",
        "\n",
        "#### b. **Continuous Data**\n",
        "\n",
        "* Measurable and can take **any value within a range**.\n",
        "* *Examples:* Height, weight, temperature\n",
        "\n",
        "---\n",
        "\n",
        "### ✅ Summary Table:\n",
        "\n",
        "| Data Type        | Subtype    | Description                      | Examples                         |\n",
        "| ---------------- | ---------- | -------------------------------- | -------------------------------- |\n",
        "| **Qualitative**  | Nominal    | Categories without order         | Colors, Nationality              |\n",
        "|                  | Ordinal    | Ordered categories               | Grades, Rankings                 |\n",
        "| **Quantitative** | Discrete   | Countable, whole numbers         | No. of pets, Students in a class |\n",
        "|                  | Continuous | Measurable, any value in a range | Height, Weight, Time             |\n",
        "\n",
        "\n"
      ],
      "metadata": {
        "id": "4twaA5l-Jr5l"
      }
    },
    {
      "cell_type": "markdown",
      "source": [
        "# 10. Explain nominal, ordinal, interval, and ratio levels of measurement.\n",
        "  - In statistics, **levels of measurement** describe the nature of data and determine which types of analyses are appropriate. There are **four levels**:\n",
        "\n",
        "---\n",
        "\n",
        "### 🔹 1. **Nominal Level**\n",
        "\n",
        "* **Definition**: Data is categorized by **names, labels, or categories**, with **no inherent order**.\n",
        "* **Characteristics**:\n",
        "\n",
        "  * Cannot be ranked or compared\n",
        "  * Only shows difference in type or category\n",
        "* **Examples**:\n",
        "\n",
        "  * Gender: *Male, Female*\n",
        "  * Blood type: *A, B, AB, O*\n",
        "  * Colors: *Red, Blue, Green*\n",
        "\n",
        "---\n",
        "\n",
        "### 🔹 2. **Ordinal Level**\n",
        "\n",
        "* **Definition**: Data is categorized with a **meaningful order**, but the **differences between values are not measurable**.\n",
        "* **Characteristics**:\n",
        "\n",
        "  * Ranking is possible\n",
        "  * Gaps between ranks are not equal or known\n",
        "* **Examples**:\n",
        "\n",
        "  * Movie ratings: *Excellent, Good, Fair*\n",
        "  * Class ranks: *1st, 2nd, 3rd*\n",
        "  * Survey scale: *Strongly Agree to Strongly Disagree*\n",
        "\n",
        "---\n",
        "\n",
        "### 🔹 3. **Interval Level**\n",
        "\n",
        "* **Definition**: Numerical data with **equal intervals** between values, but **no true zero point**.\n",
        "* **Characteristics**:\n",
        "\n",
        "  * Can be added/subtracted\n",
        "  * No meaningful ratio comparisons\n",
        "* **Examples**:\n",
        "\n",
        "  * Temperature in Celsius or Fahrenheit\n",
        "  * IQ scores\n",
        "  * Dates on a calendar\n",
        "\n",
        "---\n",
        "\n",
        "### 🔹 4. **Ratio Level**\n",
        "\n",
        "* **Definition**: Numerical data with **equal intervals** and a **true zero point**, allowing **all arithmetic operations**, including ratios.\n",
        "* **Characteristics**:\n",
        "\n",
        "  * Most informative level\n",
        "  * Zero means \"none\" of the quantity\n",
        "* **Examples**:\n",
        "\n",
        "  * Weight (0 kg means no weight)\n",
        "  * Height\n",
        "  * Age\n",
        "  * Income\n",
        "\n",
        "---\n",
        "\n",
        "### ✅ Summary Table:\n",
        "\n",
        "| Level    | Ordered? | Equal Intervals? | True Zero? | Examples                    |\n",
        "| -------- | -------- | ---------------- | ---------- | --------------------------- |\n",
        "| Nominal  | No       | No               | No         | Gender, Eye Color           |\n",
        "| Ordinal  | Yes      | No               | No         | Ranks, Satisfaction Levels  |\n",
        "| Interval | Yes      | Yes              | No         | Temperature (°C), IQ Scores |\n",
        "| Ratio    | Yes      | Yes              | Yes        | Age, Height, Weight, Income |\n",
        "\n",
        "\n"
      ],
      "metadata": {
        "id": "cjWzvHSlJ6_H"
      }
    },
    {
      "cell_type": "markdown",
      "source": [
        "# 11.What is the measure of central tendency?\n",
        "  - The **measure of central tendency** is a statistical concept used to **identify the center or typical value** of a dataset. It gives a single value that represents a set of data by showing the most common or average behavior.\n",
        "\n",
        "---\n",
        "\n",
        "### 🔹 **Three Main Measures:**\n",
        "\n",
        "1. ### **Mean** (Arithmetic Average)\n",
        "\n",
        "   * Sum of all values divided by the number of values.\n",
        "   * **Formula**:\n",
        "\n",
        "     $$\n",
        "     \\text{Mean} = \\frac{\\text{Sum of values}}{\\text{Number of values}}\n",
        "     $$\n",
        "   * **Example**: Mean of 5, 10, 15 → $\\frac{5+10+15}{3} = 10$\n",
        "\n",
        "2. ### **Median**\n",
        "\n",
        "   * The **middle value** when data is ordered.\n",
        "   * If there's an even number of values, the median is the average of the two middle ones.\n",
        "   * **Example**: Median of 3, 7, 9 → 7\n",
        "\n",
        "3. ### **Mode**\n",
        "\n",
        "   * The value that **occurs most frequently** in a dataset.\n",
        "   * A dataset may have one mode, more than one, or none.\n",
        "   * **Example**: In 2, 4, 4, 6 → Mode is 4\n",
        "\n",
        "---\n",
        "\n",
        "### 🔸 When to Use Which?\n",
        "\n",
        "| Measure | Best Used When...                                   |\n",
        "| ------- | --------------------------------------------------- |\n",
        "| Mean    | Data is symmetric with no extreme values (outliers) |\n",
        "| Median  | Data is skewed or has outliers                      |\n",
        "| Mode    | You want to find the most common value              |\n",
        "\n"
      ],
      "metadata": {
        "id": "htT2oDtlKQ8K"
      }
    },
    {
      "cell_type": "markdown",
      "source": [
        "# 12.Define mean, median, and mode.\n",
        "  - Here are simple definitions for the three key **measures of central tendency**:\n",
        "\n",
        "---\n",
        "\n",
        "### 🔹 **Mean** (Arithmetic Average)\n",
        "\n",
        "* The **sum of all values** divided by the **number of values**.\n",
        "* **Formula**:\n",
        "\n",
        "  $$\n",
        "  \\text{Mean} = \\frac{\\text{Sum of values}}{\\text{Total number of values}}\n",
        "  $$\n",
        "* **Example**: For 4, 6, 8 →\n",
        "  Mean = (4 + 6 + 8) / 3 = **6**\n",
        "\n",
        "---\n",
        "\n",
        "### 🔹 **Median**\n",
        "\n",
        "* The **middle value** when data is arranged in order.\n",
        "* If there is an even number of values, take the average of the two middle values.\n",
        "* **Example**:\n",
        "\n",
        "  * For 3, 7, 9 → Median = **7**\n",
        "  * For 2, 5, 8, 10 → Median = (5 + 8)/2 = **6.5**\n",
        "\n",
        "---\n",
        "\n",
        "### 🔹 **Mode**\n",
        "\n",
        "* The **value that appears most frequently** in a dataset.\n",
        "* A dataset can have:\n",
        "\n",
        "  * One mode (unimodal)\n",
        "  * More than one mode (bimodal/multimodal)\n",
        "  * No mode (if all values are unique)\n",
        "* **Example**:\n",
        "\n",
        "  * For 2, 3, 3, 5 → Mode = **3**\n",
        "  * For 1, 2, 3, 4 → No mode\n",
        "\n"
      ],
      "metadata": {
        "id": "hNte14bNKidf"
      }
    },
    {
      "cell_type": "markdown",
      "source": [
        "# 13.What is the significance of the measure of central tendency?\n",
        "  - The **measure of central tendency** is significant because it provides a **single, representative value** that summarizes an entire dataset. This helps in quickly understanding and interpreting large amounts of data.\n",
        "\n",
        "---\n",
        "\n",
        "### 🔹 **Key Significance:**\n",
        "\n",
        "1. **Simplifies Data**\n",
        "\n",
        "   * Reduces a complex dataset to one meaningful number (like average score or income).\n",
        "\n",
        "2. **Facilitates Comparison**\n",
        "\n",
        "   * Makes it easy to compare different groups or time periods.\n",
        "   * *Example:* Comparing average marks of two classes.\n",
        "\n",
        "3. **Supports Decision-Making**\n",
        "\n",
        "   * Used in business, economics, healthcare, etc., to guide policies and strategies.\n",
        "   * *Example:* A company uses the mean salary to set pay scales.\n",
        "\n",
        "4. **Helps Identify Patterns**\n",
        "\n",
        "   * Shows what's “typical” or “common” in the data.\n",
        "   * *Example:* Mode helps retailers understand most sold item.\n",
        "\n",
        "5. **Foundation for Further Analysis**\n",
        "\n",
        "   * Central tendency measures are essential for more advanced statistical analyses like standard deviation, correlation, or regression.\n",
        "\n",
        "---\n",
        "\n",
        "### ✅ In Short:\n",
        "\n",
        "It helps to **summarize, compare, and make informed decisions** based on data.\n",
        "\n"
      ],
      "metadata": {
        "id": "p0ElYCh_LBau"
      }
    },
    {
      "cell_type": "markdown",
      "source": [
        "# 14.What is variance, and how is it calculated?\n",
        "  - ### 🔹 **What is Variance?**\n",
        "\n",
        "**Variance** is a measure of how **spread out** or **dispersed** the values in a dataset are around the **mean**. A higher variance means the data points are more spread out; a lower variance means they are closer to the mean.\n",
        "\n",
        "---\n",
        "\n",
        "### 🔹 **Formula for Variance**\n",
        "\n",
        "There are two main formulas depending on whether you're calculating for a **population** or a **sample**:\n",
        "\n",
        "#### 🔸 **1. Population Variance (σ²)**\n",
        "\n",
        "$$\n",
        "\\sigma^2 = \\frac{\\sum (x_i - \\mu)^2}{N}\n",
        "$$\n",
        "\n",
        "* $x_i$: Each data value\n",
        "* $\\mu$: Population mean\n",
        "* $N$: Number of values in the population\n",
        "\n",
        "#### 🔸 **2. Sample Variance (s²)**\n",
        "\n",
        "$$\n",
        "s^2 = \\frac{\\sum (x_i - \\bar{x})^2}{n - 1}\n",
        "$$\n",
        "\n",
        "* $\\bar{x}$: Sample mean\n",
        "* $n$: Number of values in the sample\n",
        "* Subtracting 1 is called **Bessel’s correction** (used to make the estimate more accurate)\n",
        "\n",
        "---\n",
        "\n",
        "### 🔹 **Steps to Calculate Variance:**\n",
        "\n",
        "1. Find the **mean** of the data.\n",
        "2. Subtract the mean from each data value (get the **deviation**).\n",
        "3. Square each deviation.\n",
        "4. Add all squared deviations.\n",
        "5. Divide by the number of values (or $n-1$ for sample).\n",
        "\n",
        "---\n",
        "\n",
        "### 🔸 **Example:**\n",
        "\n",
        "Data: 4, 8, 6\n",
        "Mean = $(4 + 8 + 6)/3 = 6$\n",
        "\n",
        "Steps:\n",
        "\n",
        "* Deviations: $4 - 6 = -2$, $8 - 6 = 2$, $6 - 6 = 0$\n",
        "* Squared deviations: 4, 4, 0\n",
        "* Sum = 8\n",
        "\n",
        "**Population variance** = $8 / 3 \\approx 2.67$\n",
        "**Sample variance** = $8 / 2 = 4$\n",
        "\n"
      ],
      "metadata": {
        "id": "Fm_wHNMRLUgi"
      }
    },
    {
      "cell_type": "markdown",
      "source": [
        "# 15.What is standard deviation, and why is it important?\n",
        "  - ### 🔹 **What is Standard Deviation?**\n",
        "\n",
        "**Standard deviation** is a measure of how **spread out or dispersed** the values in a dataset are from the **mean**. It is the **square root of the variance**, and it tells you how much the data typically varies from the average value.\n",
        "\n",
        "---\n",
        "\n",
        "### 🔸 **Formula:**\n",
        "\n",
        "#### For a Population:\n",
        "\n",
        "$$\n",
        "\\sigma = \\sqrt{ \\frac{ \\sum (x_i - \\mu)^2 }{ N } }\n",
        "$$\n",
        "\n",
        "#### For a Sample:\n",
        "\n",
        "$$\n",
        "s = \\sqrt{ \\frac{ \\sum (x_i - \\bar{x})^2 }{ n - 1 } }\n",
        "$$\n",
        "\n",
        "* $x_i$: each value\n",
        "* $\\mu$ or $\\bar{x}$: mean\n",
        "* $N$: number of population values\n",
        "* $n$: number of sample values\n",
        "\n",
        "---\n",
        "\n",
        "### 🔹 **Why Is Standard Deviation Important?**\n",
        "\n",
        "1. **Measures Data Consistency**\n",
        "\n",
        "   * A low standard deviation means values are close to the mean (more consistent).\n",
        "   * A high standard deviation means values are more spread out (less consistent).\n",
        "\n",
        "2. **Helps Identify Outliers**\n",
        "\n",
        "   * Points far from the mean (more than 2 or 3 SDs) are often considered unusual.\n",
        "\n",
        "3. **Useful in Comparing Datasets**\n",
        "\n",
        "   * Two datasets with the same mean but different standard deviations behave differently.\n",
        "\n",
        "4. **Essential in Probability & Normal Distribution**\n",
        "\n",
        "   * In a normal distribution:\n",
        "\n",
        "     * \\~68% of data lies within 1 SD\n",
        "     * \\~95% within 2 SDs\n",
        "     * \\~99.7% within 3 SDs\n",
        "\n",
        "---\n",
        "\n",
        "### 🔸 **Example:**\n",
        "\n",
        "If the standard deviation of exam scores is **2**, most students scored within **±2 marks** of the average score.\n",
        "\n"
      ],
      "metadata": {
        "id": "KplkJRYOLql9"
      }
    },
    {
      "cell_type": "markdown",
      "source": [
        "# 16. Define and explain the term range in statistics.\n",
        "  - ### 🔹 **What is Range in Statistics?**\n",
        "\n",
        "The **range** is the **simplest measure of dispersion** in a dataset. It shows the **difference between the highest and lowest values**, giving a quick sense of how spread out the data is.\n",
        "\n",
        "---\n",
        "\n",
        "### 🔸 **Formula:**\n",
        "\n",
        "$$\n",
        "\\text{Range} = \\text{Maximum value} - \\text{Minimum value}\n",
        "$$\n",
        "\n",
        "---\n",
        "\n",
        "### 🔹 **Example:**\n",
        "\n",
        "Data: 4, 7, 10, 15, 18\n",
        "\n",
        "* Maximum = 18\n",
        "* Minimum = 4\n",
        "\n",
        "$$\n",
        "\\text{Range} = 18 - 4 = 14\n",
        "$$\n",
        "\n",
        "---\n",
        "\n",
        "### 🔹 **Why Is Range Important?**\n",
        "\n",
        "1. **Quick Insight**: Gives a basic idea of data spread.\n",
        "2. **Easy to Calculate**: Useful for a fast analysis.\n",
        "3. **Limitations**:\n",
        "\n",
        "   * Affected by **extreme values** (outliers).\n",
        "   * Doesn’t show how data is distributed between the extremes.\n",
        "\n",
        "---\n",
        "\n",
        "In short, the range tells how **wide or narrow** a dataset is but not how **values are spread within** that range.\n",
        "\n"
      ],
      "metadata": {
        "id": "shb0fQ2WL5sD"
      }
    },
    {
      "cell_type": "markdown",
      "source": [
        "# 17.What is the difference between variance and standard deviation?\n",
        "  - ### 🔹 **Difference Between Variance and Standard Deviation**\n",
        "\n",
        "Both **variance** and **standard deviation** measure the **spread or dispersion** of data values around the mean, but they differ in **how they express** that spread.\n",
        "\n",
        "---\n",
        "\n",
        "| Feature            | **Variance**                                           | **Standard Deviation**                                  |\n",
        "| ------------------ | ------------------------------------------------------ | ------------------------------------------------------- |\n",
        "| **Definition**     | Average of the squared deviations from the mean        | Square root of the variance                             |\n",
        "| **Formula**        | $\\sigma^2 = \\frac{\\sum (x_i - \\mu)^2}{N}$ (population) | $\\sigma = \\sqrt{ \\frac{\\sum (x_i - \\mu)^2}{N} }$        |\n",
        "| **Units**          | **Square units** (e.g., cm², kg²)                      | **Same units** as the original data (e.g., cm, kg)      |\n",
        "| **Interpretation** | More abstract; not as intuitive                        | Easier to understand; directly relates to original data |\n",
        "| **Use**            | Intermediate step to calculate SD                      | Preferred for interpreting variability                  |\n",
        "\n",
        "---\n",
        "\n",
        "### 🔸 **Example:**\n",
        "\n",
        "If exam scores have:\n",
        "\n",
        "* Mean = 70\n",
        "* Variance = 9 (units²)\n",
        "* Standard Deviation = √9 = 3 (same units as scores)\n",
        "\n",
        "---\n",
        "\n",
        "### ✅ Summary:\n",
        "\n",
        "* **Variance** tells you how far values are from the mean **on average (squared)**.\n",
        "* **Standard deviation** gives a **real-world sense of spread** using the same units as the data.\n",
        "\n",
        "\n",
        "\n"
      ],
      "metadata": {
        "id": "lRN329sgMJ71"
      }
    },
    {
      "cell_type": "markdown",
      "source": [
        "# 18.What is skewness in a dataset?\n",
        "  - ### 🔹 **What is Skewness in a Dataset?**\n",
        "\n",
        "**Skewness** is a statistical measure that describes the **asymmetry** of a dataset's distribution around its **mean**.\n",
        "\n",
        "* It tells you whether the data values are **symmetrically distributed** or if they **lean toward one side**.\n",
        "* Skewness helps in understanding the **shape of the data distribution**.\n",
        "\n",
        "---\n",
        "\n",
        "### 🔸 **Types of Skewness:**\n",
        "\n",
        "1. ### **Symmetrical (Zero Skewness)**\n",
        "\n",
        "   * Mean = Median = Mode\n",
        "   * Bell-shaped (normal) curve\n",
        "   * *Example:* Heights of adults in a large population\n",
        "\n",
        "2. ### **Positive Skew (Right-Skewed)**\n",
        "\n",
        "   * Tail is longer on the **right side**\n",
        "   * Mean > Median\n",
        "   * *Example:* Income data (a few people earn a lot more)\n",
        "\n",
        "3. ### **Negative Skew (Left-Skewed)**\n",
        "\n",
        "   * Tail is longer on the **left side**\n",
        "   * Mean < Median\n",
        "   * *Example:* Age at retirement (most retire at 60–65, few earlier)\n",
        "\n",
        "---\n",
        "\n",
        "### 🔸 **Why Is Skewness Important?**\n",
        "\n",
        "* **Affects the mean**: Skewed data pulls the mean toward the tail.\n",
        "* **Impacts statistical tests**: Some tests assume normality.\n",
        "* **Guides data transformation**: Helps decide whether to transform or normalize data.\n",
        "\n",
        "---\n",
        "\n",
        "### 🔸 Visual Summary:\n",
        "\n",
        "| Type              | Shape         | Relation of Mean & Median |\n",
        "| ----------------- | ------------- | ------------------------- |\n",
        "| Symmetrical       | Bell-shaped   | Mean = Median             |\n",
        "| Positively Skewed | Tail on right | Mean > Median             |\n",
        "| Negatively Skewed | Tail on left  | Mean < Median             |\n",
        "\n"
      ],
      "metadata": {
        "id": "ZvcfIdGwMcv7"
      }
    },
    {
      "cell_type": "markdown",
      "source": [
        "# 19.What does it mean if a dataset is positively or negatively skewed?\n",
        "  - ### 🔹 **What Does It Mean if a Dataset Is Positively or Negatively Skewed?**\n",
        "\n",
        "**Skewness** tells you about the **asymmetry** in the distribution of data.\n",
        "\n",
        "---\n",
        "\n",
        "### 🔸 **1. Positively Skewed (Right-Skewed)**\n",
        "\n",
        "* The **tail of the distribution extends to the right** (toward higher values).\n",
        "* **Most data points are concentrated on the left**, but a few extreme high values pull the mean up.\n",
        "* **Mean > Median > Mode**\n",
        "\n",
        "**Example:**\n",
        "\n",
        "* Income distribution: Most people earn average amounts, but a few earn extremely high incomes.\n",
        "\n",
        "📈 *Shape:* Pile on the left, stretched tail to the right.\n",
        "\n",
        "---\n",
        "\n",
        "### 🔸 **2. Negatively Skewed (Left-Skewed)**\n",
        "\n",
        "* The **tail of the distribution extends to the left** (toward lower values).\n",
        "* **Most data points are on the right**, with a few very low values pulling the mean down.\n",
        "* **Mean < Median < Mode**\n",
        "\n",
        "**Example:**\n",
        "\n",
        "* Age at retirement: Most people retire around 60–65, but some retire early.\n",
        "\n",
        "📉 *Shape:* Pile on the right, stretched tail to the left.\n",
        "\n",
        "---\n",
        "\n",
        "### 🔸 **Why It Matters:**\n",
        "\n",
        "* Skewness affects the **mean** and can misrepresent the \"average\" value.\n",
        "* It influences which **statistical methods** or charts are appropriate.\n",
        "* Helps identify **outliers** or unusual patterns in the data.\n",
        "\n"
      ],
      "metadata": {
        "id": "YNXN6gNaM1DD"
      }
    },
    {
      "cell_type": "markdown",
      "source": [
        "# 20.Define and explain kurtosis.\n",
        "  - ### 🔹 **What is Kurtosis?**\n",
        "\n",
        "**Kurtosis** is a statistical measure that describes the **\"tailedness\"** or **peakedness** of a data distribution compared to a normal distribution. It tells you how much of the variance in your data is due to **extreme values (outliers)** in the tails.\n",
        "\n",
        "---\n",
        "\n",
        "### 🔸 **Types of Kurtosis:**\n",
        "\n",
        "1. ### **Mesokurtic (Normal Kurtosis)**\n",
        "\n",
        "   * **Kurtosis ≈ 3**\n",
        "   * Moderate tails and peak (like a normal bell curve)\n",
        "   * Example: Standard normal distribution\n",
        "\n",
        "2. ### **Leptokurtic (High Kurtosis)**\n",
        "\n",
        "   * **Kurtosis > 3**\n",
        "   * Tall, sharp peak and **fat tails** (more outliers)\n",
        "   * Indicates **more extreme values**\n",
        "   * Example: Stock market returns with occasional big jumps\n",
        "\n",
        "3. ### **Platykurtic (Low Kurtosis)**\n",
        "\n",
        "   * **Kurtosis < 3**\n",
        "   * Flatter peak and **thin tails** (fewer outliers)\n",
        "   * Data is more evenly spread\n",
        "   * Example: Uniform or flat distribution\n",
        "\n",
        "> 🔸 Sometimes kurtosis is expressed as **\"excess kurtosis\"**, which is Kurtosis − 3 (to compare directly with the normal distribution).\n",
        "\n",
        "---\n",
        "\n",
        "### 🔹 **Why Is Kurtosis Important?**\n",
        "\n",
        "* Helps detect the presence of **outliers** or **extreme events**.\n",
        "* Indicates **risk** in financial data (leptokurtic means higher risk).\n",
        "* Affects the choice of **statistical tests** that assume normality.\n",
        "\n",
        "---\n",
        "\n",
        "### ✅ Quick Comparison:\n",
        "\n",
        "| Type        | Excess Kurtosis | Shape       | Tails          |\n",
        "| ----------- | --------------- | ----------- | -------------- |\n",
        "| Mesokurtic  | = 0             | Normal peak | Moderate tails |\n",
        "| Leptokurtic | > 0             | Sharp peak  | Heavy tails    |\n",
        "| Platykurtic | < 0             | Flat peak   | Light tails    |\n",
        "\n"
      ],
      "metadata": {
        "id": "5NmIDdRlNG1A"
      }
    },
    {
      "cell_type": "markdown",
      "source": [
        "# 21.What is the purpose of covariance?\n",
        " - ### 🔹 **What is the Purpose of Covariance?**\n",
        "\n",
        "**Covariance** is a statistical measure that indicates the **direction of the relationship** between two variables. It helps determine whether two variables **increase or decrease together**.\n",
        "\n",
        "---\n",
        "\n",
        "### 🔸 **Purpose of Covariance:**\n",
        "\n",
        "1. **Shows Relationship Direction:**\n",
        "\n",
        "   * **Positive covariance**: When one variable increases, the other tends to increase.\n",
        "   * **Negative covariance**: When one increases, the other tends to decrease.\n",
        "   * **Zero covariance**: No linear relationship between the variables.\n",
        "\n",
        "2. **Foundation for Correlation:**\n",
        "\n",
        "   * Covariance is a building block for calculating **correlation**, which standardizes the strength of the relationship.\n",
        "\n",
        "3. **Used in Portfolio Theory (Finance):**\n",
        "\n",
        "   * Helps investors understand how **asset prices move together**.\n",
        "   * Used to build **diversified portfolios** to minimize risk.\n",
        "\n",
        "4. **Data Pattern Detection:**\n",
        "\n",
        "   * Covariance helps identify whether changes in one variable **predict** changes in another.\n",
        "\n",
        "---\n",
        "\n",
        "### 🔸 **Example:**\n",
        "\n",
        "If you measure **study time** and **test scores**, and the covariance is positive, it suggests that students who study more tend to score higher.\n",
        "\n",
        "---\n",
        "\n",
        "### 🔸 Important Note:\n",
        "\n",
        "* Covariance tells **direction**, but **not strength or scale**—that’s what **correlation** is for.\n",
        "\n"
      ],
      "metadata": {
        "id": "Fsc-gPUQNVx-"
      }
    },
    {
      "cell_type": "markdown",
      "source": [
        "# 22.What does correlation measure in statistics?\n",
        "  - ### 🔹 **What Does Correlation Measure in Statistics?**\n",
        "\n",
        "**Correlation** measures the **strength and direction** of a **linear relationship** between two variables. It tells you **how closely changes in one variable are associated with changes in another**.\n",
        "\n",
        "---\n",
        "\n",
        "### 🔸 **Key Features of Correlation:**\n",
        "\n",
        "1. **Direction:**\n",
        "\n",
        "   * **Positive correlation**: As one variable increases, the other also increases.\n",
        "     *Example:* Height and weight.\n",
        "   * **Negative correlation**: As one variable increases, the other decreases.\n",
        "     *Example:* Hours of TV watched and exam scores.\n",
        "   * **Zero correlation**: No relationship between the variables.\n",
        "     *Example:* Shoe size and intelligence.\n",
        "\n",
        "2. **Strength:**\n",
        "\n",
        "   * Measured by the **correlation coefficient** $r$, which ranges from **–1 to +1**:\n",
        "\n",
        "     * $r = +1$: Perfect positive correlation\n",
        "     * $r = –1$: Perfect negative correlation\n",
        "     * $r = 0$: No linear correlation\n",
        "\n",
        "3. **Common Method**:\n",
        "\n",
        "   * **Pearson’s correlation coefficient** is most commonly used for measuring linear relationships.\n",
        "\n",
        "---\n",
        "\n",
        "### 🔸 **Why Is Correlation Important?**\n",
        "\n",
        "* Helps **predict one variable** based on another.\n",
        "* Used in **data analysis, economics, biology, psychology**, and more.\n",
        "* Aids in identifying **meaningful patterns** in large datasets.\n",
        "\n",
        "> ⚠️ **Note**: Correlation **does not imply causation** — just because two variables are related doesn’t mean one causes the other.\n",
        "\n",
        "\n"
      ],
      "metadata": {
        "id": "3ofzVGlvNmnh"
      }
    },
    {
      "cell_type": "markdown",
      "source": [
        "# 23.What is the difference between covariance and correlation?\n",
        "  - ### 🔹 **Difference Between Covariance and Correlation**\n",
        "\n",
        "Both **covariance** and **correlation** measure the relationship between two variables, but they differ in terms of **scale**, **interpretability**, and **application**.\n",
        "\n",
        "---\n",
        "\n",
        "### ✅ **Comparison Table:**\n",
        "\n",
        "| Feature              | **Covariance**                                                      | **Correlation**                                                  |\n",
        "| -------------------- | ------------------------------------------------------------------- | ---------------------------------------------------------------- |\n",
        "| **Definition**       | Measures how two variables change together                          | Measures the **strength and direction** of a linear relationship |\n",
        "| **Scale**            | **Not standardized**; depends on units                              | **Standardized**; unitless and always between –1 and +1          |\n",
        "| **Range**            | Can be any number (positive or negative)                            | Always between –1 and +1                                         |\n",
        "| **Interpretability** | Hard to interpret size due to units                                 | Easy to interpret (closer to ±1 = stronger relationship)         |\n",
        "| **Formula**          | Based on the **product of deviations**                              | Covariance divided by the product of standard deviations         |\n",
        "| **Use**              | Intermediate step in correlation and finance (e.g., portfolio risk) | For comparing relationships across different datasets            |\n",
        "\n",
        "---\n",
        "\n",
        "### 🔸 **Example:**\n",
        "\n",
        "If two variables (like income and spending) increase together:\n",
        "\n",
        "* **Covariance** might be **+1200** (value depends on units like dollars).\n",
        "* **Correlation** might be **+0.85** (strong, positive, and unitless).\n",
        "\n",
        "---\n",
        "\n",
        "### 🔹 **In Short:**\n",
        "\n",
        "* **Covariance** shows **direction** of relationship.\n",
        "* **Correlation** shows **direction + strength**, and is more commonly used in analysis due to its interpretability.\n",
        "\n",
        "\n"
      ],
      "metadata": {
        "id": "BRhT7TZDN0DZ"
      }
    },
    {
      "cell_type": "markdown",
      "source": [
        "# 24.What are some real-world applications of statistics?\n",
        "  - ### 🔹 **Real-World Applications of Statistics**\n",
        "\n",
        "Statistics is widely used across many fields to make **informed decisions**, **predict outcomes**, and **analyze data**. Here are some key real-world applications:\n",
        "\n",
        "---\n",
        "\n",
        "### ✅ **1. Business & Marketing**\n",
        "\n",
        "* **Customer behavior analysis**\n",
        "* **Sales forecasting**\n",
        "* **Market research & surveys**\n",
        "* **Product quality control**\n",
        "\n",
        "📊 *Example:* Companies use statistics to analyze customer feedback and improve products.\n",
        "\n",
        "---\n",
        "\n",
        "### ✅ **2. Healthcare & Medicine**\n",
        "\n",
        "* **Drug effectiveness testing (clinical trials)**\n",
        "* **Medical research analysis**\n",
        "* **Epidemiology (tracking disease outbreaks)**\n",
        "\n",
        "📊 *Example:* Hospitals use patient data to predict recovery rates and optimize treatment plans.\n",
        "\n",
        "---\n",
        "\n",
        "### ✅ **3. Government & Policy Making**\n",
        "\n",
        "* **Census data analysis**\n",
        "* **Economic planning**\n",
        "* **Public health strategies**\n",
        "\n",
        "📊 *Example:* Governments use statistics to allocate budgets or plan vaccination programs.\n",
        "\n",
        "---\n",
        "\n",
        "### ✅ **4. Education**\n",
        "\n",
        "* **Analyzing student performance**\n",
        "* **Curriculum effectiveness**\n",
        "* **Standardized test development**\n",
        "\n",
        "📊 *Example:* Schools use exam data to identify areas needing curriculum improvement.\n",
        "\n",
        "---\n",
        "\n",
        "### ✅ **5. Sports**\n",
        "\n",
        "* **Player performance analysis**\n",
        "* **Game strategy optimization**\n",
        "* **Injury risk prediction**\n",
        "\n",
        "📊 *Example:* Teams use player stats to draft athletes or decide game tactics.\n",
        "\n",
        "---\n",
        "\n",
        "### ✅ **6. Finance & Investment**\n",
        "\n",
        "* **Risk assessment**\n",
        "* **Stock market analysis**\n",
        "* **Portfolio optimization**\n",
        "\n",
        "📊 *Example:* Investors use statistical models to predict stock trends and minimize losses.\n",
        "\n",
        "---\n",
        "\n",
        "### ✅ **7. Environmental Studies**\n",
        "\n",
        "* **Climate change modeling**\n",
        "* **Pollution tracking**\n",
        "* **Wildlife population studies**\n",
        "\n",
        "📊 *Example:* Environmentalists use data to study changes in temperature over decades.\n",
        "\n",
        "---\n",
        "\n",
        "Statistics is essentially the **language of data**, helping every industry make smarter, evidence-based decisions.\n",
        "\n"
      ],
      "metadata": {
        "id": "LG-XcWFxOBzg"
      }
    },
    {
      "cell_type": "markdown",
      "source": [
        "# **Practical**"
      ],
      "metadata": {
        "id": "k50NZOuVOXuy"
      }
    },
    {
      "cell_type": "code",
      "source": [
        "# 1.How do you calculate the mean, median, and mode of a dataset?\n",
        "import statistics\n",
        "\n",
        "# Sample dataset\n",
        "data = [5, 8, 3, 9, 5, 7, 6]\n",
        "\n",
        "# Calculate mean\n",
        "mean = statistics.mean(data)\n",
        "\n",
        "# Calculate median\n",
        "median = statistics.median(data)\n",
        "\n",
        "# Calculate mode\n",
        "try:\n",
        "    mode = statistics.mode(data)\n",
        "except statistics.StatisticsError:\n",
        "    mode = \"No unique mode\"\n",
        "\n",
        "# Print results\n",
        "print(\"Mean:\", mean)\n",
        "print(\"Median:\", median)\n",
        "print(\"Mode:\", mode)\n"
      ],
      "metadata": {
        "colab": {
          "base_uri": "https://localhost:8080/"
        },
        "id": "LAKj9ZJnOdYw",
        "outputId": "59f044f4-6b2d-4692-f8a8-da59ade72079"
      },
      "execution_count": 1,
      "outputs": [
        {
          "output_type": "stream",
          "name": "stdout",
          "text": [
            "Mean: 6.142857142857143\n",
            "Median: 6\n",
            "Mode: 5\n"
          ]
        }
      ]
    },
    {
      "cell_type": "code",
      "source": [
        "# 2.Write a Python program to compute the variance and standard deviation of a dataset.\n",
        "import statistics\n",
        "\n",
        "# Sample dataset\n",
        "data = [5, 8, 3, 9, 5, 7, 6]\n",
        "\n",
        "# Calculate variance\n",
        "sample_variance = statistics.variance(data)       # For sample data\n",
        "population_variance = statistics.pvariance(data)  # For population data\n",
        "\n",
        "# Calculate standard deviation\n",
        "sample_std_dev = statistics.stdev(data)           # For sample data\n",
        "population_std_dev = statistics.pstdev(data)      # For population data\n",
        "\n",
        "# Print results\n",
        "print(\"Sample Variance:\", sample_variance)\n",
        "print(\"Population Variance:\", population_variance)\n",
        "print(\"Sample Standard Deviation:\", sample_std_dev)\n",
        "print(\"Population Standard Deviation:\", population_std_dev)\n"
      ],
      "metadata": {
        "colab": {
          "base_uri": "https://localhost:8080/"
        },
        "id": "X0Izp_YSO33_",
        "outputId": "0e586762-5034-4310-e25b-d15022465468"
      },
      "execution_count": 2,
      "outputs": [
        {
          "output_type": "stream",
          "name": "stdout",
          "text": [
            "Sample Variance: 4.142857142857143\n",
            "Population Variance: 3.5510204081632653\n",
            "Sample Standard Deviation: 2.0354009783964297\n",
            "Population Standard Deviation: 1.8844151368961313\n"
          ]
        }
      ]
    },
    {
      "cell_type": "code",
      "source": [
        "# 3. Create a dataset and classify it into nominal, ordinal, interval, and ratio types.\n",
        "import pandas as pd\n",
        "\n",
        "# Create a dataset\n",
        "data = {\n",
        "    'Student Name': ['Anjali', 'Raj', 'Meera', 'Vikram', 'Sara'],\n",
        "    'Gender': ['Female', 'Male', 'Female', 'Male', 'Female'],\n",
        "    'Grade Level': [12, 11, 10, 12, 11],\n",
        "    'Satisfaction Rating': ['Very Satisfied', 'Satisfied', 'Neutral', 'Unsatisfied', 'Very Satisfied'],\n",
        "    'Test Score': [85, 78, 92, 65, 88],\n",
        "    'Height (cm)': [160, 170, 155, 175, 165],\n",
        "    'Temperature (°C)': [37, 36, 38, 35, 37]\n",
        "}\n",
        "\n",
        "# Create DataFrame\n",
        "df = pd.DataFrame(data)\n",
        "\n",
        "# Print the dataset\n",
        "print(\"Dataset:\\n\", df)\n",
        "\n",
        "# Classification dictionary\n",
        "classification = {\n",
        "    'Student Name': 'Nominal',\n",
        "    'Gender': 'Nominal',\n",
        "    'Grade Level': 'Ordinal',\n",
        "    'Satisfaction Rating': 'Ordinal',\n",
        "    'Test Score': 'Ratio',\n",
        "    'Height (cm)': 'Ratio',\n",
        "    'Temperature (°C)': 'Interval'\n",
        "}\n",
        "\n",
        "print(\"\\nVariable Classification:\")\n",
        "for column, level in classification.items():\n",
        "    print(f\"{column}: {level} level\")\n"
      ],
      "metadata": {
        "colab": {
          "base_uri": "https://localhost:8080/"
        },
        "id": "KKF-iSTWPEZ_",
        "outputId": "bafe7844-d309-4e02-878c-da348f463f77"
      },
      "execution_count": 3,
      "outputs": [
        {
          "output_type": "stream",
          "name": "stdout",
          "text": [
            "Dataset:\n",
            "   Student Name  Gender  Grade Level Satisfaction Rating  Test Score  \\\n",
            "0       Anjali  Female           12      Very Satisfied          85   \n",
            "1          Raj    Male           11           Satisfied          78   \n",
            "2        Meera  Female           10             Neutral          92   \n",
            "3       Vikram    Male           12         Unsatisfied          65   \n",
            "4         Sara  Female           11      Very Satisfied          88   \n",
            "\n",
            "   Height (cm)  Temperature (°C)  \n",
            "0          160                37  \n",
            "1          170                36  \n",
            "2          155                38  \n",
            "3          175                35  \n",
            "4          165                37  \n",
            "\n",
            "Variable Classification:\n",
            "Student Name: Nominal level\n",
            "Gender: Nominal level\n",
            "Grade Level: Ordinal level\n",
            "Satisfaction Rating: Ordinal level\n",
            "Test Score: Ratio level\n",
            "Height (cm): Ratio level\n",
            "Temperature (°C): Interval level\n"
          ]
        }
      ]
    },
    {
      "cell_type": "code",
      "source": [
        "# 4.Implement sampling techniques like random sampling and stratified sampling.\n",
        "import pandas as pd\n",
        "import numpy as np\n",
        "from sklearn.model_selection import train_test_split\n",
        "\n",
        "# Sample dataset\n",
        "data = {\n",
        "    'ID': range(1, 21),\n",
        "    'Gender': np.random.choice(['Male', 'Female'], 20),\n",
        "    'Score': np.random.randint(50, 100, size=20)\n",
        "}\n",
        "\n",
        "df = pd.DataFrame(data)\n",
        "\n",
        "print(\"Original Dataset:\\n\", df)\n",
        "\n",
        "# --------------------------\n",
        "# 1. Simple Random Sampling\n",
        "# --------------------------\n",
        "random_sample = df.sample(n=5, random_state=1)  # Select 5 random rows\n",
        "\n",
        "print(\"\\nRandom Sample (5 rows):\\n\", random_sample)\n",
        "\n",
        "# --------------------------\n",
        "# 2. Stratified Sampling\n",
        "# --------------------------\n",
        "# Stratify based on 'Gender' column\n",
        "stratified_sample, _ = train_test_split(\n",
        "    df,\n",
        "    test_size=0.75,               # Keep 25% (i.e., 5 rows) as sample\n",
        "    stratify=df['Gender'],\n",
        "    random_state=1\n",
        ")\n",
        "\n",
        "print(\"\\nStratified Sample (25% by Gender):\\n\", stratified_sample)\n"
      ],
      "metadata": {
        "colab": {
          "base_uri": "https://localhost:8080/"
        },
        "id": "4RXm8-pqPdMY",
        "outputId": "2cbcf456-bc99-42e0-e24b-735efb1780a6"
      },
      "execution_count": 4,
      "outputs": [
        {
          "output_type": "stream",
          "name": "stdout",
          "text": [
            "Original Dataset:\n",
            "     ID  Gender  Score\n",
            "0    1    Male     58\n",
            "1    2  Female     68\n",
            "2    3  Female     97\n",
            "3    4  Female     71\n",
            "4    5    Male     51\n",
            "5    6    Male     63\n",
            "6    7    Male     80\n",
            "7    8    Male     93\n",
            "8    9    Male     65\n",
            "9   10  Female     78\n",
            "10  11    Male     85\n",
            "11  12  Female     91\n",
            "12  13  Female     83\n",
            "13  14  Female     55\n",
            "14  15  Female     74\n",
            "15  16  Female     65\n",
            "16  17  Female     88\n",
            "17  18  Female     77\n",
            "18  19  Female     80\n",
            "19  20  Female     92\n",
            "\n",
            "Random Sample (5 rows):\n",
            "     ID  Gender  Score\n",
            "3    4  Female     71\n",
            "16  17  Female     88\n",
            "6    7    Male     80\n",
            "10  11    Male     85\n",
            "2    3  Female     97\n",
            "\n",
            "Stratified Sample (25% by Gender):\n",
            "     ID  Gender  Score\n",
            "9   10  Female     78\n",
            "8    9    Male     65\n",
            "6    7    Male     80\n",
            "3    4  Female     71\n",
            "11  12  Female     91\n"
          ]
        }
      ]
    },
    {
      "cell_type": "code",
      "source": [
        "# 5.Write a Python function to calculate the range of a dataset.\n",
        "def calculate_range(dataset):\n",
        "    \"\"\"\n",
        "    Calculates the range of a dataset.\n",
        "\n",
        "    Parameters:\n",
        "        dataset (list of numbers): The dataset to analyze.\n",
        "\n",
        "    Returns:\n",
        "        float: The range (max - min) of the dataset.\n",
        "    \"\"\"\n",
        "    if not dataset:\n",
        "        raise ValueError(\"Dataset is empty.\")\n",
        "\n",
        "    return max(dataset) - min(dataset)\n",
        "\n",
        "# Example usage\n",
        "data = [12, 7, 22, 5, 19, 10]\n",
        "print(\"Range of the dataset:\", calculate_range(data))\n"
      ],
      "metadata": {
        "colab": {
          "base_uri": "https://localhost:8080/"
        },
        "id": "u7AuB7L6PtpL",
        "outputId": "bcdc769f-64bc-4fe4-a87b-98c5c32c489a"
      },
      "execution_count": 6,
      "outputs": [
        {
          "output_type": "stream",
          "name": "stdout",
          "text": [
            "Range of the dataset: 17\n"
          ]
        }
      ]
    },
    {
      "cell_type": "code",
      "source": [
        "# 6.Create a dataset and plot its histogram to visualize skewness.\n",
        "import numpy as np\n",
        "import pandas as pd\n",
        "import seaborn as sns\n",
        "import matplotlib.pyplot as plt\n",
        "from scipy.stats import skew\n",
        "\n",
        "# Step 1: Generate a positively skewed dataset\n",
        "np.random.seed(42)\n",
        "data = np.random.exponential(scale=2.0, size=1000)  # Exponential distribution → positive skew\n",
        "\n",
        "# Step 2: Convert to a DataFrame\n",
        "df = pd.DataFrame(data, columns=['Value'])\n",
        "\n",
        "# Step 3: Calculate skewness\n",
        "data_skewness = skew(df['Value'])\n",
        "\n",
        "# Step 4: Plot histogram with KDE\n",
        "plt.figure(figsize=(8, 5))\n",
        "sns.histplot(df['Value'], bins=30, kde=True, color='lightblue', edgecolor='black')\n",
        "plt.title(f'Histogram of Skewed Data (Skewness = {data_skewness:.2f})')\n",
        "plt.xlabel('Value')\n",
        "plt.ylabel('Frequency')\n",
        "plt.grid(True)\n",
        "plt.tight_layout()\n",
        "plt.show()\n"
      ],
      "metadata": {
        "colab": {
          "base_uri": "https://localhost:8080/",
          "height": 507
        },
        "id": "_5Y148swP_sF",
        "outputId": "74d84b34-271e-4c6c-dc7e-2df595263eaa"
      },
      "execution_count": 7,
      "outputs": [
        {
          "output_type": "display_data",
          "data": {
            "text/plain": [
              "<Figure size 800x500 with 1 Axes>"
            ],
            "image/png": "[encoded data removed]"
          },
          "metadata": {}
        }
      ]
    },
    {
      "cell_type": "code",
      "source": [
        "# 7.Calculate skewness and kurtosis of a dataset using Python libraries.\n",
        "import numpy as np\n",
        "import pandas as pd\n",
        "from scipy.stats import skew, kurtosis\n",
        "\n",
        "# Step 1: Create a dataset (positively skewed example)\n",
        "np.random.seed(42)\n",
        "data = np.random.exponential(scale=2.0, size=1000)\n",
        "\n",
        "# Step 2: Convert to a DataFrame\n",
        "df = pd.DataFrame(data, columns=['Value'])\n",
        "\n",
        "# Step 3: Calculate skewness and kurtosis\n",
        "skewness_value = skew(df['Value'])\n",
        "kurtosis_value = kurtosis(df['Value'])  # By default, excess kurtosis (normal = 0)\n",
        "\n",
        "# Optional: Calculate kurtosis with Fisher=False to match traditional definition (normal = 3)\n",
        "kurtosis_standard = kurtosis(df['Value'], fisher=False)\n",
        "\n",
        "# Step 4: Display the results\n",
        "print(\"Skewness:\", round(skewness_value, 2))\n",
        "print(\"Excess Kurtosis:\", round(kurtosis_value, 2))\n",
        "print(\"Standard Kurtosis:\", round(kurtosis_standard, 2))\n",
        "\n"
      ],
      "metadata": {
        "colab": {
          "base_uri": "https://localhost:8080/"
        },
        "id": "pvadyCgJQVNC",
        "outputId": "f2b6ba7a-396d-42d1-8a52-b774dd9bb19a"
      },
      "execution_count": 8,
      "outputs": [
        {
          "output_type": "stream",
          "name": "stdout",
          "text": [
            "Skewness: 1.87\n",
            "Excess Kurtosis: 5.22\n",
            "Standard Kurtosis: 8.22\n"
          ]
        }
      ]
    },
    {
      "cell_type": "code",
      "source": [
        "# 8.Generate a dataset and demonstrate positive and negative skewness.\n",
        "import numpy as np\n",
        "import pandas as pd\n",
        "import matplotlib.pyplot as plt\n",
        "import seaborn as sns\n",
        "from scipy.stats import skew\n",
        "\n",
        "# Step 1: Generate datasets\n",
        "np.random.seed(42)\n",
        "\n",
        "# Positively skewed data (Exponential)\n",
        "positive_data = np.random.exponential(scale=2.0, size=1000)\n",
        "\n",
        "# Negatively skewed data (Reverse of exponential)\n",
        "negative_data = -np.random.exponential(scale=2.0, size=1000)\n",
        "\n",
        "# Step 2: Calculate skewness\n",
        "positive_skew = skew(positive_data)\n",
        "negative_skew = skew(negative_data)\n",
        "\n",
        "# Step 3: Plot the histograms\n",
        "plt.figure(figsize=(12, 5))\n",
        "\n",
        "# Positive skew\n",
        "plt.subplot(1, 2, 1)\n",
        "sns.histplot(positive_data, bins=30, kde=True, color='lightblue')\n",
        "plt.title(f'Positive Skew (Skewness = {positive_skew:.2f})')\n",
        "plt.xlabel('Value')\n",
        "plt.ylabel('Frequency')\n",
        "\n",
        "# Negative skew\n",
        "plt.subplot(1, 2, 2)\n",
        "sns.histplot(negative_data, bins=30, kde=True, color='salmon')\n",
        "plt.title(f'Negative Skew (Skewness = {negative_skew:.2f})')\n",
        "plt.xlabel('Value')\n",
        "plt.ylabel('Frequency')\n",
        "\n",
        "plt.tight_layout()\n",
        "plt.show()\n"
      ],
      "metadata": {
        "colab": {
          "base_uri": "https://localhost:8080/",
          "height": 507
        },
        "id": "xaFMj80xQoh8",
        "outputId": "16a989a6-7619-4c14-bdce-3030d9b37daf"
      },
      "execution_count": 9,
      "outputs": [
        {
          "output_type": "display_data",
          "data": {
            "text/plain": [
              "<Figure size 1200x500 with 2 Axes>"
            ],
            "image/png": "[encoded data removed]"
          },
          "metadata": {}
        }
      ]
    },
    {
      "cell_type": "code",
      "source": [
        "# 9.Write a Python script to calculate covariance between two datasets.\n",
        "import numpy as np\n",
        "\n",
        "# Sample datasets\n",
        "x = [65, 66, 67, 67, 68, 69]\n",
        "y = [67, 68, 65, 68, 72, 70]\n",
        "\n",
        "# --------- Method 1: Using NumPy ---------\n",
        "cov_matrix = np.cov(x, y, ddof=1)  # ddof=1 → sample covariance\n",
        "covariance_np = cov_matrix[0][1]\n",
        "\n",
        "# --------- Method 2: Manual Calculation ---------\n",
        "def calculate_covariance(x, y):\n",
        "    if len(x) != len(y):\n",
        "        raise ValueError(\"Datasets must have the same length.\")\n",
        "\n",
        "    n = len(x)\n",
        "    mean_x = sum(x) / n\n",
        "    mean_y = sum(y) / n\n",
        "\n",
        "    covariance = sum((xi - mean_x) * (yi - mean_y) for xi, yi in zip(x, y)) / (n - 1)\n",
        "    return covariance\n",
        "\n",
        "covariance_manual = calculate_covariance(x, y)\n",
        "\n",
        "# --------- Output ---------\n",
        "print(\"Covariance (NumPy):\", round(covariance_np, 2))\n",
        "print(\"Covariance (Manual):\", round(covariance_manual, 2))\n"
      ],
      "metadata": {
        "colab": {
          "base_uri": "https://localhost:8080/"
        },
        "id": "VAhFjPMIQ4W7",
        "outputId": "ac6a4342-e2a2-49dd-abda-a2ba6f49933b"
      },
      "execution_count": 10,
      "outputs": [
        {
          "output_type": "stream",
          "name": "stdout",
          "text": [
            "Covariance (NumPy): 2.0\n",
            "Covariance (Manual): 2.0\n"
          ]
        }
      ]
    },
    {
      "cell_type": "code",
      "source": [
        "# 10.Write a Python script to calculate the correlation coefficient between two datasets.\n",
        "import numpy as np\n",
        "\n",
        "# Sample datasets\n",
        "x = [65, 66, 67, 67, 68, 69]\n",
        "y = [67, 68, 65, 68, 72, 70]\n",
        "\n",
        "# ----------- Method 1: Using NumPy ------------\n",
        "correlation_np = np.corrcoef(x, y)[0][1]\n",
        "\n",
        "# ----------- Method 2: Manual Calculation ------------\n",
        "def calculate_correlation(x, y):\n",
        "    if len(x) != len(y):\n",
        "        raise ValueError(\"Datasets must be of the same length.\")\n",
        "\n",
        "    n = len(x)\n",
        "    mean_x = sum(x) / n\n",
        "    mean_y = sum(y) / n\n",
        "\n",
        "    numerator = sum((xi - mean_x) * (yi - mean_y) for xi, yi in zip(x, y))\n",
        "    denominator_x = sum((xi - mean_x)**2 for xi in x)\n",
        "    denominator_y = sum((yi - mean_y)**2 for yi in y)\n",
        "    denominator = (denominator_x * denominator_y) ** 0.5\n",
        "\n",
        "    if denominator == 0:\n",
        "        return 0  # Avoid division by zero\n",
        "\n",
        "    return numerator / denominator\n",
        "\n",
        "correlation_manual = calculate_correlation(x, y)\n",
        "\n",
        "# ----------- Output ------------\n",
        "print(\"Correlation Coefficient (NumPy):\", round(correlation_np, 3))\n",
        "print(\"Correlation Coefficient (Manual):\", round(correlation_manual, 3))\n"
      ],
      "metadata": {
        "colab": {
          "base_uri": "https://localhost:8080/"
        },
        "id": "52V-EscARFtv",
        "outputId": "9a8bd6c5-ce7d-4c68-fb84-dd058a16635d"
      },
      "execution_count": 11,
      "outputs": [
        {
          "output_type": "stream",
          "name": "stdout",
          "text": [
            "Correlation Coefficient (NumPy): 0.584\n",
            "Correlation Coefficient (Manual): 0.584\n"
          ]
        }
      ]
    },
    {
      "cell_type": "code",
      "source": [
        "# 11.Create a scatter plot to visualize the relationship between two variables.\n",
        "import matplotlib.pyplot as plt\n",
        "import seaborn as sns\n",
        "\n",
        "# Sample data (e.g., Study Hours vs Exam Scores)\n",
        "study_hours = [1, 2, 3, 4, 5, 6, 7, 8, 9, 10]\n",
        "exam_scores = [55, 58, 61, 66, 70, 72, 75, 80, 84, 88]\n",
        "\n",
        "# Create scatter plot\n",
        "plt.figure(figsize=(8, 5))\n",
        "sns.scatterplot(x=study_hours, y=exam_scores, color='teal', s=80)\n",
        "\n",
        "# Add labels and title\n",
        "plt.title(\"Scatter Plot: Study Hours vs Exam Scores\")\n",
        "plt.xlabel(\"Study Hours\")\n",
        "plt.ylabel(\"Exam Scores\")\n",
        "plt.grid(True)\n",
        "plt.tight_layout()\n",
        "plt.show()\n"
      ],
      "metadata": {
        "colab": {
          "base_uri": "https://localhost:8080/",
          "height": 507
        },
        "id": "tx-rYDZORahN",
        "outputId": "ca0cda50-534f-484a-a79d-48fc94fab78e"
      },
      "execution_count": 12,
      "outputs": [
        {
          "output_type": "display_data",
          "data": {
            "text/plain": [
              "<Figure size 800x500 with 1 Axes>"
            ],
            "image/png": "[encoded data removed]"
          },
          "metadata": {}
        }
      ]
    },
    {
      "cell_type": "code",
      "source": [
        "# 12.Implement and compare simple random sampling and systematic sampling.\n",
        "import pandas as pd\n",
        "import numpy as np\n",
        "\n",
        "# -----------------------\n",
        "# Create a sample dataset\n",
        "# -----------------------\n",
        "np.random.seed(42)\n",
        "data = {'ID': range(1, 101),  # IDs from 1 to 100\n",
        "        'Value': np.random.randint(50, 100, 100)}  # Random values between 50–99\n",
        "\n",
        "df = pd.DataFrame(data)\n",
        "print(\"Original Dataset (first 10 rows):\\n\", df.head(10))\n",
        "\n",
        "# -----------------------------\n",
        "# 1. Simple Random Sampling\n",
        "# -----------------------------\n",
        "simple_random_sample = df.sample(n=10, random_state=1)\n",
        "print(\"\\nSimple Random Sample:\\n\", simple_random_sample)\n",
        "\n",
        "# -----------------------------\n",
        "# 2. Systematic Sampling\n",
        "# -----------------------------\n",
        "def systematic_sampling(dataframe, sample_size):\n",
        "    step = len(dataframe) // sample_size\n",
        "    start = np.random.randint(0, step)  # random starting point\n",
        "    indices = np.arange(start, start + step * sample_size, step)\n",
        "    return dataframe.iloc[indices]\n",
        "\n",
        "systematic_sample = systematic_sampling(df, 10)\n",
        "print(\"\\nSystematic Sample:\\n\", systematic_sample)\n"
      ],
      "metadata": {
        "colab": {
          "base_uri": "https://localhost:8080/"
        },
        "id": "dGvDyvj6Ro1n",
        "outputId": "55168341-9abc-49f4-cfec-ca67f2d995d8"
      },
      "execution_count": 13,
      "outputs": [
        {
          "output_type": "stream",
          "name": "stdout",
          "text": [
            "Original Dataset (first 10 rows):\n",
            "    ID  Value\n",
            "0   1     88\n",
            "1   2     78\n",
            "2   3     64\n",
            "3   4     92\n",
            "4   5     57\n",
            "5   6     70\n",
            "6   7     88\n",
            "7   8     68\n",
            "8   9     72\n",
            "9  10     60\n",
            "\n",
            "Simple Random Sample:\n",
            "     ID  Value\n",
            "80  81     57\n",
            "84  85     70\n",
            "33  34     65\n",
            "81  82     63\n",
            "93  94     90\n",
            "17  18     51\n",
            "36  37     93\n",
            "82  83     72\n",
            "69  70     78\n",
            "65  66     51\n",
            "\n",
            "Systematic Sample:\n",
            "     ID  Value\n",
            "8    9     72\n",
            "18  19     73\n",
            "28  29     74\n",
            "38  39     86\n",
            "48  49     58\n",
            "58  59     84\n",
            "68  69     53\n",
            "78  79     97\n",
            "88  89     96\n",
            "98  99     74\n"
          ]
        }
      ]
    },
    {
      "cell_type": "code",
      "source": [
        "# 13.Calculate the mean, median, and mode of grouped data.\n",
        "import pandas as pd\n",
        "\n",
        "# Grouped data: class intervals and frequencies\n",
        "data = {\n",
        "    'Class Interval': ['0-10', '10-20', '20-30', '30-40', '40-50'],\n",
        "    'Lower Bound': [0, 10, 20, 30, 40],\n",
        "    'Upper Bound': [10, 20, 30, 40, 50],\n",
        "    'Frequency': [5, 8, 15, 16, 6]\n",
        "}\n",
        "\n",
        "# Create DataFrame\n",
        "df = pd.DataFrame(data)\n",
        "\n",
        "# Calculate midpoints\n",
        "df['Midpoint'] = (df['Lower Bound'] + df['Upper Bound']) / 2\n",
        "\n",
        "# ---------- Mean ----------\n",
        "df['f * x'] = df['Frequency'] * df['Midpoint']\n",
        "mean = df['f * x'].sum() / df['Frequency'].sum()\n",
        "\n",
        "# ---------- Median ----------\n",
        "df['Cumulative Frequency'] = df['Frequency'].cumsum()\n",
        "n = df['Frequency'].sum()\n",
        "median_class_index = df[df['Cumulative Frequency'] >= n / 2].index[0]\n",
        "\n",
        "L = df.loc[median_class_index, 'Lower Bound']\n",
        "F = df.loc[median_class_index, 'Frequency']\n",
        "cf_prev = 0 if median_class_index == 0 else df.loc[median_class_index - 1, 'Cumulative Frequency']\n",
        "h = df.loc[median_class_index, 'Upper Bound'] - df.loc[median_class_index, 'Lower Bound']\n",
        "\n",
        "median = L + ((n/2 - cf_prev) / F) * h\n",
        "\n",
        "# ---------- Mode ----------\n",
        "modal_class_index = df['Frequency'].idxmax()\n",
        "L_modal = df.loc[modal_class_index, 'Lower Bound']\n",
        "f1 = df.loc[modal_class_index, 'Frequency']\n",
        "f0 = 0 if modal_class_index == 0 else df.loc[modal_class_index - 1, 'Frequency']\n",
        "f2 = 0 if modal_class_index == len(df) - 1 else df.loc[modal_class_index + 1, 'Frequency']\n",
        "h_modal = df.loc[modal_class_index, 'Upper Bound'] - df.loc[modal_class_index, 'Lower Bound']\n",
        "\n",
        "mode = L_modal + ((f1 - f0) / ((f1 - f0) + (f1 - f2))) * h_modal\n",
        "\n",
        "# ---------- Results ----------\n",
        "print(\"Mean of grouped data:\", round(mean, 2))\n",
        "print(\"Median of grouped data:\", round(median, 2))\n",
        "print(\"Mode of grouped data:\", round(mode, 2))\n"
      ],
      "metadata": {
        "colab": {
          "base_uri": "https://localhost:8080/"
        },
        "id": "zswk-jTNR1ue",
        "outputId": "ec86df76-b22e-4835-ca31-26e1a0623f1b"
      },
      "execution_count": 14,
      "outputs": [
        {
          "output_type": "stream",
          "name": "stdout",
          "text": [
            "Mean of grouped data: 27.0\n",
            "Median of grouped data: 28.0\n",
            "Mode of grouped data: 30.91\n"
          ]
        }
      ]
    },
    {
      "cell_type": "code",
      "source": [
        "# 14.Simulate data using Python and calculate its central tendency and dispersion.\n",
        "import numpy as np\n",
        "import pandas as pd\n",
        "from scipy import stats\n",
        "\n",
        "# Step 1: Simulate data (e.g., normal distribution)\n",
        "np.random.seed(42)\n",
        "data = np.random.normal(loc=50, scale=10, size=100)  # mean=50, std=10, 100 values\n",
        "\n",
        "# Convert to DataFrame for clarity\n",
        "df = pd.DataFrame(data, columns=['Values'])\n",
        "\n",
        "# Step 2: Central Tendency\n",
        "mean = np.mean(data)\n",
        "median = np.median(data)\n",
        "mode = stats.mode(data, keepdims=True).mode[0]\n",
        "\n",
        "# Step 3: Dispersion\n",
        "data_range = np.max(data) - np.min(data)\n",
        "variance = np.var(data, ddof=1)  # sample variance\n",
        "std_dev = np.std(data, ddof=1)   # sample standard deviation\n",
        "\n",
        "# Step 4: Print results\n",
        "print(\"Central Tendency:\")\n",
        "print(\"Mean   =\", round(mean, 2))\n",
        "print(\"Median =\", round(median, 2))\n",
        "print(\"Mode   =\", round(mode, 2))\n",
        "\n",
        "print(\"\\nDispersion:\")\n",
        "print(\"Range            =\", round(data_range, 2))\n",
        "print(\"Variance         =\", round(variance, 2))\n",
        "print(\"Standard Deviation =\", round(std_dev, 2))\n"
      ],
      "metadata": {
        "colab": {
          "base_uri": "https://localhost:8080/"
        },
        "id": "CGZr2KHsSMjD",
        "outputId": "22e4c512-5e67-44d2-a07f-51c29629a6b6"
      },
      "execution_count": 15,
      "outputs": [
        {
          "output_type": "stream",
          "name": "stdout",
          "text": [
            "Central Tendency:\n",
            "Mean   = 48.96\n",
            "Median = 48.73\n",
            "Mode   = 23.8\n",
            "\n",
            "Dispersion:\n",
            "Range            = 44.72\n",
            "Variance         = 82.48\n",
            "Standard Deviation = 9.08\n"
          ]
        }
      ]
    },
    {
      "cell_type": "code",
      "source": [
        "# 15. Use NumPy or pandas to summarize a dataset’s descriptive statistics.\n",
        "import numpy as np\n",
        "import pandas as pd\n",
        "\n",
        "# Step 1: Simulate a dataset using NumPy\n",
        "np.random.seed(42)\n",
        "data = {\n",
        "    'Height_cm': np.random.normal(170, 10, 100),\n",
        "    'Weight_kg': np.random.normal(65, 15, 100),\n",
        "    'Age_years': np.random.randint(18, 60, 100)\n",
        "}\n",
        "\n",
        "# Step 2: Create a DataFrame\n",
        "df = pd.DataFrame(data)\n",
        "\n",
        "# Step 3: Display Descriptive Statistics\n",
        "print(\"Descriptive Statistics:\\n\")\n",
        "print(df.describe())\n"
      ],
      "metadata": {
        "colab": {
          "base_uri": "https://localhost:8080/"
        },
        "id": "r6qFA0XqSZIt",
        "outputId": "57152dc4-116e-4016-d7d7-f127051d6609"
      },
      "execution_count": 16,
      "outputs": [
        {
          "output_type": "stream",
          "name": "stdout",
          "text": [
            "Descriptive Statistics:\n",
            "\n",
            "        Height_cm   Weight_kg   Age_years\n",
            "count  100.000000  100.000000  100.000000\n",
            "mean   168.961535   65.334569   39.270000\n",
            "std      9.081684   14.305034   11.995668\n",
            "min    143.802549   36.218432   18.000000\n",
            "25%    163.990943   52.915092   29.750000\n",
            "50%    168.730437   66.261608   40.000000\n",
            "75%    174.059521   73.072557   49.250000\n",
            "max    188.522782  105.802537   59.000000\n"
          ]
        }
      ]
    },
    {
      "cell_type": "code",
      "source": [
        "# 16.Plot a boxplot to understand the spread and identify outliers.\n",
        "import numpy as np\n",
        "import pandas as pd\n",
        "import seaborn as sns\n",
        "import matplotlib.pyplot as plt\n",
        "\n",
        "# Step 1: Generate a dataset (normal distribution with some outliers)\n",
        "np.random.seed(42)\n",
        "data = np.append(np.random.normal(loc=50, scale=10, size=100), [10, 100])  # Add outliers\n",
        "df = pd.DataFrame({'Values': data})\n",
        "\n",
        "# Step 2: Plot a boxplot\n",
        "plt.figure(figsize=(6, 5))\n",
        "sns.boxplot(y='Values', data=df, color='skyblue')\n",
        "plt.title('Boxplot of Values')\n",
        "plt.ylabel('Value')\n",
        "plt.grid(True)\n",
        "plt.tight_layout()\n",
        "plt.show()\n"
      ],
      "metadata": {
        "colab": {
          "base_uri": "https://localhost:8080/",
          "height": 507
        },
        "id": "ViYrl2leSqEE",
        "outputId": "c6459b2a-a0e3-432f-bb68-d1759995519a"
      },
      "execution_count": 17,
      "outputs": [
        {
          "output_type": "display_data",
          "data": {
            "text/plain": [
              "<Figure size 600x500 with 1 Axes>"
            ],
            "image/png": "[encoded data removed]"
          },
          "metadata": {}
        }
      ]
    },
    {
      "cell_type": "code",
      "source": [
        "# 17.Calculate the interquartile range (IQR) of a dataset.\n",
        "import numpy as np\n",
        "\n",
        "# Step 1: Create or simulate a dataset\n",
        "data = [10, 15, 18, 21, 24, 27, 30, 35, 40, 100]  # includes an outlier\n",
        "\n",
        "# Step 2: Calculate Q1 (25th percentile) and Q3 (75th percentile)\n",
        "Q1 = np.percentile(data, 25)\n",
        "Q3 = np.percentile(data, 75)\n",
        "\n",
        "# Step 3: Compute IQR\n",
        "IQR = Q3 - Q1\n",
        "\n",
        "# Step 4: Output\n",
        "print(\"Q1 (25th percentile):\", Q1)\n",
        "print(\"Q3 (75th percentile):\", Q3)\n",
        "print(\"Interquartile Range (IQR):\", IQR)\n"
      ],
      "metadata": {
        "colab": {
          "base_uri": "https://localhost:8080/"
        },
        "id": "Mx-zko0MS2S2",
        "outputId": "45868fc1-0cf5-4fdf-f3f1-41fb3f4c4b45"
      },
      "execution_count": 19,
      "outputs": [
        {
          "output_type": "stream",
          "name": "stdout",
          "text": [
            "Q1 (25th percentile): 18.75\n",
            "Q3 (75th percentile): 33.75\n",
            "Interquartile Range (IQR): 15.0\n"
          ]
        }
      ]
    },
    {
      "cell_type": "code",
      "source": [
        "# 18.Implement Z-score normalization and explain its significance.\n",
        "import numpy as np\n",
        "import pandas as pd\n",
        "\n",
        "# Step 1: Simulate raw data\n",
        "np.random.seed(42)\n",
        "raw_data = np.random.randint(50, 100, size=10)\n",
        "df = pd.DataFrame({'Original': raw_data})\n",
        "\n",
        "# Step 2: Compute Z-scores\n",
        "mean = np.mean(raw_data)\n",
        "std_dev = np.std(raw_data, ddof=0)  # population std\n",
        "df['Z-Score'] = (df['Original'] - mean) / std_dev\n",
        "\n",
        "# Step 3: Output\n",
        "print(\"Original Data and Z-score Normalized Data:\\n\")\n",
        "print(df)\n",
        "print(f\"\\nMean after normalization ≈ {round(df['Z-Score'].mean(), 2)}\")\n",
        "print(f\"Std Dev after normalization ≈ {round(df['Z-Score'].std(ddof=0), 2)}\")\n"
      ],
      "metadata": {
        "colab": {
          "base_uri": "https://localhost:8080/"
        },
        "id": "FrfHAyYQTHOG",
        "outputId": "65f135cc-16c1-47ba-8500-158bdd235545"
      },
      "execution_count": 20,
      "outputs": [
        {
          "output_type": "stream",
          "name": "stdout",
          "text": [
            "Original Data and Z-score Normalized Data:\n",
            "\n",
            "   Original   Z-Score\n",
            "0        88  1.220796\n",
            "1        78  0.367093\n",
            "2        64 -0.828093\n",
            "3        92  1.562278\n",
            "4        57 -1.425685\n",
            "5        70 -0.315870\n",
            "6        88  1.220796\n",
            "7        68 -0.486611\n",
            "8        72 -0.145130\n",
            "9        60 -1.169574\n",
            "\n",
            "Mean after normalization ≈ -0.0\n",
            "Std Dev after normalization ≈ 1.0\n"
          ]
        }
      ]
    },
    {
      "cell_type": "code",
      "source": [
        "# 19.Compare two datasets using their standard deviations.\n",
        "import numpy as np\n",
        "import pandas as pd\n",
        "\n",
        "# Step 1: Create two datasets\n",
        "np.random.seed(42)\n",
        "\n",
        "# Dataset A: tightly grouped\n",
        "data_A = np.random.normal(loc=50, scale=5, size=100)\n",
        "\n",
        "# Dataset B: more spread out\n",
        "data_B = np.random.normal(loc=50, scale=15, size=100)\n",
        "\n",
        "# Step 2: Convert to DataFrame\n",
        "df = pd.DataFrame({\n",
        "    'Dataset_A': data_A,\n",
        "    'Dataset_B': data_B\n",
        "})\n",
        "\n",
        "# Step 3: Calculate Standard Deviations\n",
        "std_A = np.std(df['Dataset_A'], ddof=1)\n",
        "std_B = np.std(df['Dataset_B'], ddof=1)\n",
        "\n",
        "# Step 4: Output Comparison\n",
        "print(\"Standard Deviation Comparison:\")\n",
        "print(f\"Dataset A: {std_A:.2f}\")\n",
        "print(f\"Dataset B: {std_B:.2f}\")\n",
        "\n",
        "if std_A > std_B:\n",
        "    print(\"\\nDataset A has more variability.\")\n",
        "elif std_B > std_A:\n",
        "    print(\"\\nDataset B has more variability.\")\n",
        "else:\n",
        "    print(\"\\nBoth datasets have equal variability.\")\n"
      ],
      "metadata": {
        "colab": {
          "base_uri": "https://localhost:8080/"
        },
        "id": "ZtSrB-UbTWMo",
        "outputId": "7166b552-022f-4eae-952b-705ce02c7420"
      },
      "execution_count": 21,
      "outputs": [
        {
          "output_type": "stream",
          "name": "stdout",
          "text": [
            "Standard Deviation Comparison:\n",
            "Dataset A: 4.54\n",
            "Dataset B: 14.31\n",
            "\n",
            "Dataset B has more variability.\n"
          ]
        }
      ]
    },
    {
      "cell_type": "code",
      "source": [
        "# 20.Write a Python program to visualize covariance using a heatmap.\n",
        "import numpy as np\n",
        "import pandas as pd\n",
        "import seaborn as sns\n",
        "import matplotlib.pyplot as plt\n",
        "\n",
        "# Step 1: Generate synthetic dataset\n",
        "np.random.seed(42)\n",
        "data = {\n",
        "    'Height': np.random.normal(170, 10, 100),\n",
        "    'Weight': np.random.normal(65, 15, 100),\n",
        "    'Age': np.random.randint(18, 60, 100)\n",
        "}\n",
        "\n",
        "df = pd.DataFrame(data)\n",
        "\n",
        "# Step 2: Calculate covariance matrix\n",
        "cov_matrix = df.cov()\n",
        "\n",
        "# Step 3: Plot covariance heatmap\n",
        "plt.figure(figsize=(6, 5))\n",
        "sns.heatmap(cov_matrix, annot=True, cmap='YlGnBu', fmt='.2f', square=True)\n",
        "plt.title('Covariance Heatmap')\n",
        "plt.tight_layout()\n",
        "plt.show()\n"
      ],
      "metadata": {
        "colab": {
          "base_uri": "https://localhost:8080/",
          "height": 519
        },
        "id": "qtiSmPViTkbL",
        "outputId": "90f1169b-67d6-482c-e4d5-fa3db4aaaa44"
      },
      "execution_count": 22,
      "outputs": [
        {
          "output_type": "display_data",
          "data": {
            "text/plain": [
              "<Figure size 600x500 with 2 Axes>"
            ],
            "image/png": "[encoded data removed]"
          },
          "metadata": {}
        }
      ]
    },
    {
      "cell_type": "code",
      "source": [
        "# 21.Use seaborn to create a correlation matrix for a dataset.\n",
        "import numpy as np\n",
        "import pandas as pd\n",
        "import seaborn as sns\n",
        "import matplotlib.pyplot as plt\n",
        "\n",
        "# Step 1: Create a sample dataset\n",
        "np.random.seed(42)\n",
        "data = {\n",
        "    'Height_cm': np.random.normal(170, 10, 100),\n",
        "    'Weight_kg': np.random.normal(65, 15, 100),\n",
        "    'Age_years': np.random.randint(18, 60, 100),\n",
        "    'Exercise_Hours': np.random.randint(0, 10, 100)\n",
        "}\n",
        "\n",
        "df = pd.DataFrame(data)\n",
        "\n",
        "# Step 2: Calculate correlation matrix\n",
        "corr_matrix = df.corr()\n",
        "\n",
        "# Step 3: Plot correlation heatmap\n",
        "plt.figure(figsize=(8, 6))\n",
        "sns.heatmap(corr_matrix, annot=True, cmap='coolwarm', fmt='.2f', square=True, linewidths=0.5)\n",
        "plt.title('Correlation Matrix Heatmap')\n",
        "plt.tight_layout()\n",
        "plt.show()\n"
      ],
      "metadata": {
        "colab": {
          "base_uri": "https://localhost:8080/",
          "height": 607
        },
        "id": "E6uOcZSzTxcS",
        "outputId": "49995563-9639-44b3-fc56-47f08a4a55a7"
      },
      "execution_count": 23,
      "outputs": [
        {
          "output_type": "display_data",
          "data": {
            "text/plain": [
              "<Figure size 800x600 with 2 Axes>"
            ],
            "image/png": "[encoded data removed]"
          },
          "metadata": {}
        }
      ]
    },
    {
      "cell_type": "code",
      "source": [
        "# 22.Generate a dataset and implement both variance and standard deviation computations.\n",
        "import numpy as np\n",
        "\n",
        "# Step 1: Generate a dataset (e.g., normal distribution)\n",
        "np.random.seed(42)\n",
        "data = np.random.normal(loc=50, scale=5, size=100)\n",
        "\n",
        "# Step 2: Calculate mean\n",
        "mean = np.mean(data)\n",
        "\n",
        "# Step 3: Manual variance calculation (sample variance, ddof=1)\n",
        "variance_manual = sum((x - mean) ** 2 for x in data) / (len(data) - 1)\n",
        "\n",
        "# Step 4: Manual standard deviation (square root of variance)\n",
        "std_dev_manual = variance_manual ** 0.5\n",
        "\n",
        "# Step 5: Using NumPy functions (sample variance and std)\n",
        "variance_np = np.var(data, ddof=1)\n",
        "std_dev_np = np.std(data, ddof=1)\n",
        "\n",
        "# Step 6: Print results\n",
        "print(f\"Manual Variance: {variance_manual:.4f}\")\n",
        "print(f\"NumPy Variance:  {variance_np:.4f}\")\n",
        "print(f\"Manual Std Dev:  {std_dev_manual:.4f}\")\n",
        "print(f\"NumPy Std Dev:   {std_dev_np:.4f}\")\n"
      ],
      "metadata": {
        "colab": {
          "base_uri": "https://localhost:8080/"
        },
        "id": "VGWtxxSfT7bT",
        "outputId": "f41c689a-94f7-4e3d-8092-0bc55127e8d2"
      },
      "execution_count": 24,
      "outputs": [
        {
          "output_type": "stream",
          "name": "stdout",
          "text": [
            "Manual Variance: 20.6192\n",
            "NumPy Variance:  20.6192\n",
            "Manual Std Dev:  4.5408\n",
            "NumPy Std Dev:   4.5408\n"
          ]
        }
      ]
    },
    {
      "cell_type": "code",
      "source": [
        "# 23.Visualize skewness and kurtosis using Python libraries like matplotlib or seaborn.\n",
        "import numpy as np\n",
        "import seaborn as sns\n",
        "import matplotlib.pyplot as plt\n",
        "from scipy.stats import skew, kurtosis\n",
        "\n",
        "# Step 1: Generate skewed dataset (exponential for positive skew)\n",
        "np.random.seed(42)\n",
        "data = np.random.exponential(scale=2, size=1000)\n",
        "\n",
        "# Step 2: Calculate skewness and kurtosis\n",
        "data_skewness = skew(data)\n",
        "data_kurtosis = kurtosis(data)  # excess kurtosis (normal=0)\n",
        "\n",
        "# Step 3: Plot histogram with KDE\n",
        "plt.figure(figsize=(8, 5))\n",
        "sns.histplot(data, bins=30, kde=True, color='skyblue')\n",
        "plt.title(f\"Distribution with Skewness={data_skewness:.2f}, Kurtosis={data_kurtosis:.2f}\")\n",
        "plt.xlabel('Value')\n",
        "plt.ylabel('Frequency')\n",
        "plt.grid(True)\n",
        "plt.tight_layout()\n",
        "plt.show()\n"
      ],
      "metadata": {
        "colab": {
          "base_uri": "https://localhost:8080/",
          "height": 507
        },
        "id": "7vQHcEbmUGDH",
        "outputId": "48115f8c-25b0-4ece-fa1b-3bc44ca92f9b"
      },
      "execution_count": 25,
      "outputs": [
        {
          "output_type": "display_data",
          "data": {
            "text/plain": [
              "<Figure size 800x500 with 1 Axes>"
            ],
            "image/png": "[encoded data removed]"
          },
          "metadata": {}
        }
      ]
    },
    {
      "cell_type": "code",
      "source": [
        "# 24.Implement the Pearson and Spearman correlation coefficients for a dataset.\n",
        "import numpy as np\n",
        "import pandas as pd\n",
        "from scipy.stats import pearsonr, spearmanr\n",
        "\n",
        "# Step 1: Create sample dataset\n",
        "np.random.seed(42)\n",
        "x = np.random.normal(50, 10, 100)\n",
        "# Create y correlated with x + some noise\n",
        "y = x * 0.5 + np.random.normal(0, 5, 100)\n",
        "\n",
        "df = pd.DataFrame({'X': x, 'Y': y})\n",
        "\n",
        "# Step 2: Calculate Pearson correlation\n",
        "pearson_corr, pearson_p = pearsonr(df['X'], df['Y'])\n",
        "\n",
        "# Step 3: Calculate Spearman correlation\n",
        "spearman_corr, spearman_p = spearmanr(df['X'], df['Y'])\n",
        "\n",
        "# Step 4: Display results\n",
        "print(f\"Pearson correlation: {pearson_corr:.3f} (p-value: {pearson_p:.3f})\")\n",
        "print(f\"Spearman correlation: {spearman_corr:.3f} (p-value: {spearman_p:.3f})\")\n"
      ],
      "metadata": {
        "colab": {
          "base_uri": "https://localhost:8080/"
        },
        "id": "jnMrTu25US_7",
        "outputId": "064a9b1f-5be3-4e34-888d-880f0938fd29"
      },
      "execution_count": 26,
      "outputs": [
        {
          "output_type": "stream",
          "name": "stdout",
          "text": [
            "Pearson correlation: 0.636 (p-value: 0.000)\n",
            "Spearman correlation: 0.600 (p-value: 0.000)\n"
          ]
        }
      ]
    },
    {
      "cell_type": "markdown",
      "source": [
        "# **Thank** **You**"
      ],
      "metadata": {
        "id": "XD6bCwOTUjxu"
      }
    }
  ]
}